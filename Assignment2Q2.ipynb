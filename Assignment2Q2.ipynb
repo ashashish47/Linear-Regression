{
 "cells": [
  {
   "cell_type": "code",
   "execution_count": 1,
   "id": "ad531859",
   "metadata": {},
   "outputs": [],
   "source": [
    "import pandas as pd\n",
    "import matplotlib.pyplot as plt\n",
    "from sklearn.linear_model import LinearRegression\n",
    "import numpy as np"
   ]
  },
  {
   "cell_type": "markdown",
   "id": "aa38becd",
   "metadata": {},
   "source": [
    "# Load Data"
   ]
  },
  {
   "cell_type": "code",
   "execution_count": 2,
   "id": "64823538",
   "metadata": {},
   "outputs": [
    {
     "data": {
      "text/html": [
       "<div>\n",
       "<style scoped>\n",
       "    .dataframe tbody tr th:only-of-type {\n",
       "        vertical-align: middle;\n",
       "    }\n",
       "\n",
       "    .dataframe tbody tr th {\n",
       "        vertical-align: top;\n",
       "    }\n",
       "\n",
       "    .dataframe thead th {\n",
       "        text-align: right;\n",
       "    }\n",
       "</style>\n",
       "<table border=\"1\" class=\"dataframe\">\n",
       "  <thead>\n",
       "    <tr style=\"text-align: right;\">\n",
       "      <th></th>\n",
       "      <th>Make</th>\n",
       "      <th>Model</th>\n",
       "      <th>Year</th>\n",
       "      <th>Engine Fuel Type</th>\n",
       "      <th>Engine HP</th>\n",
       "      <th>Engine Cylinders</th>\n",
       "      <th>Transmission Type</th>\n",
       "      <th>Driven_Wheels</th>\n",
       "      <th>Number of Doors</th>\n",
       "      <th>Market Category</th>\n",
       "      <th>Vehicle Size</th>\n",
       "      <th>Vehicle Style</th>\n",
       "      <th>highway MPG</th>\n",
       "      <th>city mpg</th>\n",
       "      <th>Popularity</th>\n",
       "      <th>MSRP</th>\n",
       "    </tr>\n",
       "  </thead>\n",
       "  <tbody>\n",
       "    <tr>\n",
       "      <th>0</th>\n",
       "      <td>BMW</td>\n",
       "      <td>1 Series M</td>\n",
       "      <td>2011</td>\n",
       "      <td>premium unleaded (required)</td>\n",
       "      <td>335.0</td>\n",
       "      <td>6.0</td>\n",
       "      <td>MANUAL</td>\n",
       "      <td>rear wheel drive</td>\n",
       "      <td>2.0</td>\n",
       "      <td>Factory Tuner,Luxury,High-Performance</td>\n",
       "      <td>Compact</td>\n",
       "      <td>Coupe</td>\n",
       "      <td>26</td>\n",
       "      <td>19</td>\n",
       "      <td>3916</td>\n",
       "      <td>46135</td>\n",
       "    </tr>\n",
       "    <tr>\n",
       "      <th>1</th>\n",
       "      <td>BMW</td>\n",
       "      <td>1 Series</td>\n",
       "      <td>2011</td>\n",
       "      <td>premium unleaded (required)</td>\n",
       "      <td>300.0</td>\n",
       "      <td>6.0</td>\n",
       "      <td>MANUAL</td>\n",
       "      <td>rear wheel drive</td>\n",
       "      <td>2.0</td>\n",
       "      <td>Luxury,Performance</td>\n",
       "      <td>Compact</td>\n",
       "      <td>Convertible</td>\n",
       "      <td>28</td>\n",
       "      <td>19</td>\n",
       "      <td>3916</td>\n",
       "      <td>40650</td>\n",
       "    </tr>\n",
       "    <tr>\n",
       "      <th>2</th>\n",
       "      <td>BMW</td>\n",
       "      <td>1 Series</td>\n",
       "      <td>2011</td>\n",
       "      <td>premium unleaded (required)</td>\n",
       "      <td>300.0</td>\n",
       "      <td>6.0</td>\n",
       "      <td>MANUAL</td>\n",
       "      <td>rear wheel drive</td>\n",
       "      <td>2.0</td>\n",
       "      <td>Luxury,High-Performance</td>\n",
       "      <td>Compact</td>\n",
       "      <td>Coupe</td>\n",
       "      <td>28</td>\n",
       "      <td>20</td>\n",
       "      <td>3916</td>\n",
       "      <td>36350</td>\n",
       "    </tr>\n",
       "    <tr>\n",
       "      <th>3</th>\n",
       "      <td>BMW</td>\n",
       "      <td>1 Series</td>\n",
       "      <td>2011</td>\n",
       "      <td>premium unleaded (required)</td>\n",
       "      <td>230.0</td>\n",
       "      <td>6.0</td>\n",
       "      <td>MANUAL</td>\n",
       "      <td>rear wheel drive</td>\n",
       "      <td>2.0</td>\n",
       "      <td>Luxury,Performance</td>\n",
       "      <td>Compact</td>\n",
       "      <td>Coupe</td>\n",
       "      <td>28</td>\n",
       "      <td>18</td>\n",
       "      <td>3916</td>\n",
       "      <td>29450</td>\n",
       "    </tr>\n",
       "    <tr>\n",
       "      <th>4</th>\n",
       "      <td>BMW</td>\n",
       "      <td>1 Series</td>\n",
       "      <td>2011</td>\n",
       "      <td>premium unleaded (required)</td>\n",
       "      <td>230.0</td>\n",
       "      <td>6.0</td>\n",
       "      <td>MANUAL</td>\n",
       "      <td>rear wheel drive</td>\n",
       "      <td>2.0</td>\n",
       "      <td>Luxury</td>\n",
       "      <td>Compact</td>\n",
       "      <td>Convertible</td>\n",
       "      <td>28</td>\n",
       "      <td>18</td>\n",
       "      <td>3916</td>\n",
       "      <td>34500</td>\n",
       "    </tr>\n",
       "    <tr>\n",
       "      <th>...</th>\n",
       "      <td>...</td>\n",
       "      <td>...</td>\n",
       "      <td>...</td>\n",
       "      <td>...</td>\n",
       "      <td>...</td>\n",
       "      <td>...</td>\n",
       "      <td>...</td>\n",
       "      <td>...</td>\n",
       "      <td>...</td>\n",
       "      <td>...</td>\n",
       "      <td>...</td>\n",
       "      <td>...</td>\n",
       "      <td>...</td>\n",
       "      <td>...</td>\n",
       "      <td>...</td>\n",
       "      <td>...</td>\n",
       "    </tr>\n",
       "    <tr>\n",
       "      <th>11909</th>\n",
       "      <td>Acura</td>\n",
       "      <td>ZDX</td>\n",
       "      <td>2012</td>\n",
       "      <td>premium unleaded (required)</td>\n",
       "      <td>300.0</td>\n",
       "      <td>6.0</td>\n",
       "      <td>AUTOMATIC</td>\n",
       "      <td>all wheel drive</td>\n",
       "      <td>4.0</td>\n",
       "      <td>Crossover,Hatchback,Luxury</td>\n",
       "      <td>Midsize</td>\n",
       "      <td>4dr Hatchback</td>\n",
       "      <td>23</td>\n",
       "      <td>16</td>\n",
       "      <td>204</td>\n",
       "      <td>46120</td>\n",
       "    </tr>\n",
       "    <tr>\n",
       "      <th>11910</th>\n",
       "      <td>Acura</td>\n",
       "      <td>ZDX</td>\n",
       "      <td>2012</td>\n",
       "      <td>premium unleaded (required)</td>\n",
       "      <td>300.0</td>\n",
       "      <td>6.0</td>\n",
       "      <td>AUTOMATIC</td>\n",
       "      <td>all wheel drive</td>\n",
       "      <td>4.0</td>\n",
       "      <td>Crossover,Hatchback,Luxury</td>\n",
       "      <td>Midsize</td>\n",
       "      <td>4dr Hatchback</td>\n",
       "      <td>23</td>\n",
       "      <td>16</td>\n",
       "      <td>204</td>\n",
       "      <td>56670</td>\n",
       "    </tr>\n",
       "    <tr>\n",
       "      <th>11911</th>\n",
       "      <td>Acura</td>\n",
       "      <td>ZDX</td>\n",
       "      <td>2012</td>\n",
       "      <td>premium unleaded (required)</td>\n",
       "      <td>300.0</td>\n",
       "      <td>6.0</td>\n",
       "      <td>AUTOMATIC</td>\n",
       "      <td>all wheel drive</td>\n",
       "      <td>4.0</td>\n",
       "      <td>Crossover,Hatchback,Luxury</td>\n",
       "      <td>Midsize</td>\n",
       "      <td>4dr Hatchback</td>\n",
       "      <td>23</td>\n",
       "      <td>16</td>\n",
       "      <td>204</td>\n",
       "      <td>50620</td>\n",
       "    </tr>\n",
       "    <tr>\n",
       "      <th>11912</th>\n",
       "      <td>Acura</td>\n",
       "      <td>ZDX</td>\n",
       "      <td>2013</td>\n",
       "      <td>premium unleaded (recommended)</td>\n",
       "      <td>300.0</td>\n",
       "      <td>6.0</td>\n",
       "      <td>AUTOMATIC</td>\n",
       "      <td>all wheel drive</td>\n",
       "      <td>4.0</td>\n",
       "      <td>Crossover,Hatchback,Luxury</td>\n",
       "      <td>Midsize</td>\n",
       "      <td>4dr Hatchback</td>\n",
       "      <td>23</td>\n",
       "      <td>16</td>\n",
       "      <td>204</td>\n",
       "      <td>50920</td>\n",
       "    </tr>\n",
       "    <tr>\n",
       "      <th>11913</th>\n",
       "      <td>Lincoln</td>\n",
       "      <td>Zephyr</td>\n",
       "      <td>2006</td>\n",
       "      <td>regular unleaded</td>\n",
       "      <td>221.0</td>\n",
       "      <td>6.0</td>\n",
       "      <td>AUTOMATIC</td>\n",
       "      <td>front wheel drive</td>\n",
       "      <td>4.0</td>\n",
       "      <td>Luxury</td>\n",
       "      <td>Midsize</td>\n",
       "      <td>Sedan</td>\n",
       "      <td>26</td>\n",
       "      <td>17</td>\n",
       "      <td>61</td>\n",
       "      <td>28995</td>\n",
       "    </tr>\n",
       "  </tbody>\n",
       "</table>\n",
       "<p>11914 rows × 16 columns</p>\n",
       "</div>"
      ],
      "text/plain": [
       "          Make       Model  Year                Engine Fuel Type  Engine HP  \\\n",
       "0          BMW  1 Series M  2011     premium unleaded (required)      335.0   \n",
       "1          BMW    1 Series  2011     premium unleaded (required)      300.0   \n",
       "2          BMW    1 Series  2011     premium unleaded (required)      300.0   \n",
       "3          BMW    1 Series  2011     premium unleaded (required)      230.0   \n",
       "4          BMW    1 Series  2011     premium unleaded (required)      230.0   \n",
       "...        ...         ...   ...                             ...        ...   \n",
       "11909    Acura         ZDX  2012     premium unleaded (required)      300.0   \n",
       "11910    Acura         ZDX  2012     premium unleaded (required)      300.0   \n",
       "11911    Acura         ZDX  2012     premium unleaded (required)      300.0   \n",
       "11912    Acura         ZDX  2013  premium unleaded (recommended)      300.0   \n",
       "11913  Lincoln      Zephyr  2006                regular unleaded      221.0   \n",
       "\n",
       "       Engine Cylinders Transmission Type      Driven_Wheels  Number of Doors  \\\n",
       "0                   6.0            MANUAL   rear wheel drive              2.0   \n",
       "1                   6.0            MANUAL   rear wheel drive              2.0   \n",
       "2                   6.0            MANUAL   rear wheel drive              2.0   \n",
       "3                   6.0            MANUAL   rear wheel drive              2.0   \n",
       "4                   6.0            MANUAL   rear wheel drive              2.0   \n",
       "...                 ...               ...                ...              ...   \n",
       "11909               6.0         AUTOMATIC    all wheel drive              4.0   \n",
       "11910               6.0         AUTOMATIC    all wheel drive              4.0   \n",
       "11911               6.0         AUTOMATIC    all wheel drive              4.0   \n",
       "11912               6.0         AUTOMATIC    all wheel drive              4.0   \n",
       "11913               6.0         AUTOMATIC  front wheel drive              4.0   \n",
       "\n",
       "                             Market Category Vehicle Size  Vehicle Style  \\\n",
       "0      Factory Tuner,Luxury,High-Performance      Compact          Coupe   \n",
       "1                         Luxury,Performance      Compact    Convertible   \n",
       "2                    Luxury,High-Performance      Compact          Coupe   \n",
       "3                         Luxury,Performance      Compact          Coupe   \n",
       "4                                     Luxury      Compact    Convertible   \n",
       "...                                      ...          ...            ...   \n",
       "11909             Crossover,Hatchback,Luxury      Midsize  4dr Hatchback   \n",
       "11910             Crossover,Hatchback,Luxury      Midsize  4dr Hatchback   \n",
       "11911             Crossover,Hatchback,Luxury      Midsize  4dr Hatchback   \n",
       "11912             Crossover,Hatchback,Luxury      Midsize  4dr Hatchback   \n",
       "11913                                 Luxury      Midsize          Sedan   \n",
       "\n",
       "       highway MPG  city mpg  Popularity   MSRP  \n",
       "0               26        19        3916  46135  \n",
       "1               28        19        3916  40650  \n",
       "2               28        20        3916  36350  \n",
       "3               28        18        3916  29450  \n",
       "4               28        18        3916  34500  \n",
       "...            ...       ...         ...    ...  \n",
       "11909           23        16         204  46120  \n",
       "11910           23        16         204  56670  \n",
       "11911           23        16         204  50620  \n",
       "11912           23        16         204  50920  \n",
       "11913           26        17          61  28995  \n",
       "\n",
       "[11914 rows x 16 columns]"
      ]
     },
     "execution_count": 2,
     "metadata": {},
     "output_type": "execute_result"
    }
   ],
   "source": [
    "cars=pd.read_csv(r\"Z:\\226524\\Datasets\\cars_data.csv\")\n",
    "cars"
   ]
  },
  {
   "cell_type": "markdown",
   "id": "66cd8576",
   "metadata": {},
   "source": [
    "# Check Null Values"
   ]
  },
  {
   "cell_type": "code",
   "execution_count": 3,
   "id": "7a0bff92",
   "metadata": {},
   "outputs": [
    {
     "name": "stdout",
     "output_type": "stream",
     "text": [
      "Make - 0\n",
      "Model - 0\n",
      "Year - 0\n",
      "Engine Fuel Type - 3\n",
      "Engine HP - 69\n",
      "Engine Cylinders - 30\n",
      "Transmission Type - 0\n",
      "Driven_Wheels - 0\n",
      "Number of Doors - 6\n",
      "Market Category - 3742\n",
      "Vehicle Size - 0\n",
      "Vehicle Style - 0\n",
      "highway MPG - 0\n",
      "city mpg - 0\n",
      "Popularity - 0\n",
      "MSRP - 0\n"
     ]
    }
   ],
   "source": [
    "column_names = cars.columns\n",
    "for column in column_names:\n",
    "    print(column + ' - ' + str(cars[column].isnull().sum()))"
   ]
  },
  {
   "cell_type": "markdown",
   "id": "501be3e4",
   "metadata": {},
   "source": [
    "# Drop Null Values"
   ]
  },
  {
   "cell_type": "code",
   "execution_count": 4,
   "id": "0f1da4bb",
   "metadata": {},
   "outputs": [],
   "source": [
    "cars=cars.dropna()"
   ]
  },
  {
   "cell_type": "code",
   "execution_count": 5,
   "id": "1b7d808e",
   "metadata": {},
   "outputs": [
    {
     "name": "stdout",
     "output_type": "stream",
     "text": [
      "Make - 0\n",
      "Model - 0\n",
      "Year - 0\n",
      "Engine Fuel Type - 0\n",
      "Engine HP - 0\n",
      "Engine Cylinders - 0\n",
      "Transmission Type - 0\n",
      "Driven_Wheels - 0\n",
      "Number of Doors - 0\n",
      "Market Category - 0\n",
      "Vehicle Size - 0\n",
      "Vehicle Style - 0\n",
      "highway MPG - 0\n",
      "city mpg - 0\n",
      "Popularity - 0\n",
      "MSRP - 0\n"
     ]
    }
   ],
   "source": [
    "column_names = cars.columns\n",
    "for column in column_names:\n",
    "    print(column + ' - ' + str(cars[column].isnull().sum()))"
   ]
  },
  {
   "cell_type": "code",
   "execution_count": 6,
   "id": "ec6b25b3",
   "metadata": {},
   "outputs": [
    {
     "data": {
      "text/html": [
       "<div>\n",
       "<style scoped>\n",
       "    .dataframe tbody tr th:only-of-type {\n",
       "        vertical-align: middle;\n",
       "    }\n",
       "\n",
       "    .dataframe tbody tr th {\n",
       "        vertical-align: top;\n",
       "    }\n",
       "\n",
       "    .dataframe thead th {\n",
       "        text-align: right;\n",
       "    }\n",
       "</style>\n",
       "<table border=\"1\" class=\"dataframe\">\n",
       "  <thead>\n",
       "    <tr style=\"text-align: right;\">\n",
       "      <th></th>\n",
       "      <th>Year</th>\n",
       "      <th>Engine HP</th>\n",
       "      <th>Engine Cylinders</th>\n",
       "      <th>Number of Doors</th>\n",
       "      <th>highway MPG</th>\n",
       "      <th>city mpg</th>\n",
       "      <th>Popularity</th>\n",
       "      <th>MSRP</th>\n",
       "    </tr>\n",
       "  </thead>\n",
       "  <tbody>\n",
       "    <tr>\n",
       "      <th>Year</th>\n",
       "      <td>1.000000</td>\n",
       "      <td>0.244256</td>\n",
       "      <td>-0.046552</td>\n",
       "      <td>0.182905</td>\n",
       "      <td>0.216441</td>\n",
       "      <td>0.180041</td>\n",
       "      <td>0.118304</td>\n",
       "      <td>0.133684</td>\n",
       "    </tr>\n",
       "    <tr>\n",
       "      <th>Engine HP</th>\n",
       "      <td>0.244256</td>\n",
       "      <td>1.000000</td>\n",
       "      <td>0.811390</td>\n",
       "      <td>-0.196042</td>\n",
       "      <td>-0.473019</td>\n",
       "      <td>-0.512779</td>\n",
       "      <td>0.038012</td>\n",
       "      <td>0.656662</td>\n",
       "    </tr>\n",
       "    <tr>\n",
       "      <th>Engine Cylinders</th>\n",
       "      <td>-0.046552</td>\n",
       "      <td>0.811390</td>\n",
       "      <td>1.000000</td>\n",
       "      <td>-0.178578</td>\n",
       "      <td>-0.603237</td>\n",
       "      <td>-0.615459</td>\n",
       "      <td>0.014825</td>\n",
       "      <td>0.589185</td>\n",
       "    </tr>\n",
       "    <tr>\n",
       "      <th>Number of Doors</th>\n",
       "      <td>0.182905</td>\n",
       "      <td>-0.196042</td>\n",
       "      <td>-0.178578</td>\n",
       "      <td>1.000000</td>\n",
       "      <td>0.103413</td>\n",
       "      <td>0.140205</td>\n",
       "      <td>-0.040450</td>\n",
       "      <td>-0.184699</td>\n",
       "    </tr>\n",
       "    <tr>\n",
       "      <th>highway MPG</th>\n",
       "      <td>0.216441</td>\n",
       "      <td>-0.473019</td>\n",
       "      <td>-0.603237</td>\n",
       "      <td>0.103413</td>\n",
       "      <td>1.000000</td>\n",
       "      <td>0.821349</td>\n",
       "      <td>0.032504</td>\n",
       "      <td>-0.257585</td>\n",
       "    </tr>\n",
       "    <tr>\n",
       "      <th>city mpg</th>\n",
       "      <td>0.180041</td>\n",
       "      <td>-0.512779</td>\n",
       "      <td>-0.615459</td>\n",
       "      <td>0.140205</td>\n",
       "      <td>0.821349</td>\n",
       "      <td>1.000000</td>\n",
       "      <td>0.037057</td>\n",
       "      <td>-0.268003</td>\n",
       "    </tr>\n",
       "    <tr>\n",
       "      <th>Popularity</th>\n",
       "      <td>0.118304</td>\n",
       "      <td>0.038012</td>\n",
       "      <td>0.014825</td>\n",
       "      <td>-0.040450</td>\n",
       "      <td>0.032504</td>\n",
       "      <td>0.037057</td>\n",
       "      <td>1.000000</td>\n",
       "      <td>-0.052477</td>\n",
       "    </tr>\n",
       "    <tr>\n",
       "      <th>MSRP</th>\n",
       "      <td>0.133684</td>\n",
       "      <td>0.656662</td>\n",
       "      <td>0.589185</td>\n",
       "      <td>-0.184699</td>\n",
       "      <td>-0.257585</td>\n",
       "      <td>-0.268003</td>\n",
       "      <td>-0.052477</td>\n",
       "      <td>1.000000</td>\n",
       "    </tr>\n",
       "  </tbody>\n",
       "</table>\n",
       "</div>"
      ],
      "text/plain": [
       "                      Year  Engine HP  Engine Cylinders  Number of Doors  \\\n",
       "Year              1.000000   0.244256         -0.046552         0.182905   \n",
       "Engine HP         0.244256   1.000000          0.811390        -0.196042   \n",
       "Engine Cylinders -0.046552   0.811390          1.000000        -0.178578   \n",
       "Number of Doors   0.182905  -0.196042         -0.178578         1.000000   \n",
       "highway MPG       0.216441  -0.473019         -0.603237         0.103413   \n",
       "city mpg          0.180041  -0.512779         -0.615459         0.140205   \n",
       "Popularity        0.118304   0.038012          0.014825        -0.040450   \n",
       "MSRP              0.133684   0.656662          0.589185        -0.184699   \n",
       "\n",
       "                  highway MPG  city mpg  Popularity      MSRP  \n",
       "Year                 0.216441  0.180041    0.118304  0.133684  \n",
       "Engine HP           -0.473019 -0.512779    0.038012  0.656662  \n",
       "Engine Cylinders    -0.603237 -0.615459    0.014825  0.589185  \n",
       "Number of Doors      0.103413  0.140205   -0.040450 -0.184699  \n",
       "highway MPG          1.000000  0.821349    0.032504 -0.257585  \n",
       "city mpg             0.821349  1.000000    0.037057 -0.268003  \n",
       "Popularity           0.032504  0.037057    1.000000 -0.052477  \n",
       "MSRP                -0.257585 -0.268003   -0.052477  1.000000  "
      ]
     },
     "execution_count": 6,
     "metadata": {},
     "output_type": "execute_result"
    }
   ],
   "source": [
    "cars.corr()"
   ]
  },
  {
   "cell_type": "markdown",
   "id": "0d78d09a",
   "metadata": {},
   "source": [
    "# Predictors DF"
   ]
  },
  {
   "cell_type": "code",
   "execution_count": 7,
   "id": "b69097e7",
   "metadata": {},
   "outputs": [
    {
     "data": {
      "text/html": [
       "<div>\n",
       "<style scoped>\n",
       "    .dataframe tbody tr th:only-of-type {\n",
       "        vertical-align: middle;\n",
       "    }\n",
       "\n",
       "    .dataframe tbody tr th {\n",
       "        vertical-align: top;\n",
       "    }\n",
       "\n",
       "    .dataframe thead th {\n",
       "        text-align: right;\n",
       "    }\n",
       "</style>\n",
       "<table border=\"1\" class=\"dataframe\">\n",
       "  <thead>\n",
       "    <tr style=\"text-align: right;\">\n",
       "      <th></th>\n",
       "      <th>Engine HP</th>\n",
       "      <th>Engine Cylinders</th>\n",
       "      <th>Vehicle Size</th>\n",
       "    </tr>\n",
       "  </thead>\n",
       "  <tbody>\n",
       "    <tr>\n",
       "      <th>0</th>\n",
       "      <td>335.0</td>\n",
       "      <td>6.0</td>\n",
       "      <td>Compact</td>\n",
       "    </tr>\n",
       "    <tr>\n",
       "      <th>1</th>\n",
       "      <td>300.0</td>\n",
       "      <td>6.0</td>\n",
       "      <td>Compact</td>\n",
       "    </tr>\n",
       "    <tr>\n",
       "      <th>2</th>\n",
       "      <td>300.0</td>\n",
       "      <td>6.0</td>\n",
       "      <td>Compact</td>\n",
       "    </tr>\n",
       "    <tr>\n",
       "      <th>3</th>\n",
       "      <td>230.0</td>\n",
       "      <td>6.0</td>\n",
       "      <td>Compact</td>\n",
       "    </tr>\n",
       "    <tr>\n",
       "      <th>4</th>\n",
       "      <td>230.0</td>\n",
       "      <td>6.0</td>\n",
       "      <td>Compact</td>\n",
       "    </tr>\n",
       "    <tr>\n",
       "      <th>...</th>\n",
       "      <td>...</td>\n",
       "      <td>...</td>\n",
       "      <td>...</td>\n",
       "    </tr>\n",
       "    <tr>\n",
       "      <th>11909</th>\n",
       "      <td>300.0</td>\n",
       "      <td>6.0</td>\n",
       "      <td>Midsize</td>\n",
       "    </tr>\n",
       "    <tr>\n",
       "      <th>11910</th>\n",
       "      <td>300.0</td>\n",
       "      <td>6.0</td>\n",
       "      <td>Midsize</td>\n",
       "    </tr>\n",
       "    <tr>\n",
       "      <th>11911</th>\n",
       "      <td>300.0</td>\n",
       "      <td>6.0</td>\n",
       "      <td>Midsize</td>\n",
       "    </tr>\n",
       "    <tr>\n",
       "      <th>11912</th>\n",
       "      <td>300.0</td>\n",
       "      <td>6.0</td>\n",
       "      <td>Midsize</td>\n",
       "    </tr>\n",
       "    <tr>\n",
       "      <th>11913</th>\n",
       "      <td>221.0</td>\n",
       "      <td>6.0</td>\n",
       "      <td>Midsize</td>\n",
       "    </tr>\n",
       "  </tbody>\n",
       "</table>\n",
       "<p>8084 rows × 3 columns</p>\n",
       "</div>"
      ],
      "text/plain": [
       "       Engine HP  Engine Cylinders Vehicle Size\n",
       "0          335.0               6.0      Compact\n",
       "1          300.0               6.0      Compact\n",
       "2          300.0               6.0      Compact\n",
       "3          230.0               6.0      Compact\n",
       "4          230.0               6.0      Compact\n",
       "...          ...               ...          ...\n",
       "11909      300.0               6.0      Midsize\n",
       "11910      300.0               6.0      Midsize\n",
       "11911      300.0               6.0      Midsize\n",
       "11912      300.0               6.0      Midsize\n",
       "11913      221.0               6.0      Midsize\n",
       "\n",
       "[8084 rows x 3 columns]"
      ]
     },
     "execution_count": 7,
     "metadata": {},
     "output_type": "execute_result"
    }
   ],
   "source": [
    "x=cars[['Engine HP','Engine Cylinders','Vehicle Size']]\n",
    "x"
   ]
  },
  {
   "cell_type": "code",
   "execution_count": 8,
   "id": "77937903",
   "metadata": {},
   "outputs": [
    {
     "data": {
      "text/html": [
       "<div>\n",
       "<style scoped>\n",
       "    .dataframe tbody tr th:only-of-type {\n",
       "        vertical-align: middle;\n",
       "    }\n",
       "\n",
       "    .dataframe tbody tr th {\n",
       "        vertical-align: top;\n",
       "    }\n",
       "\n",
       "    .dataframe thead th {\n",
       "        text-align: right;\n",
       "    }\n",
       "</style>\n",
       "<table border=\"1\" class=\"dataframe\">\n",
       "  <thead>\n",
       "    <tr style=\"text-align: right;\">\n",
       "      <th></th>\n",
       "      <th>Engine HP</th>\n",
       "      <th>Engine Cylinders</th>\n",
       "      <th>Vehicle Size_Compact</th>\n",
       "      <th>Vehicle Size_Large</th>\n",
       "      <th>Vehicle Size_Midsize</th>\n",
       "    </tr>\n",
       "  </thead>\n",
       "  <tbody>\n",
       "    <tr>\n",
       "      <th>0</th>\n",
       "      <td>335.0</td>\n",
       "      <td>6.0</td>\n",
       "      <td>1</td>\n",
       "      <td>0</td>\n",
       "      <td>0</td>\n",
       "    </tr>\n",
       "    <tr>\n",
       "      <th>1</th>\n",
       "      <td>300.0</td>\n",
       "      <td>6.0</td>\n",
       "      <td>1</td>\n",
       "      <td>0</td>\n",
       "      <td>0</td>\n",
       "    </tr>\n",
       "    <tr>\n",
       "      <th>2</th>\n",
       "      <td>300.0</td>\n",
       "      <td>6.0</td>\n",
       "      <td>1</td>\n",
       "      <td>0</td>\n",
       "      <td>0</td>\n",
       "    </tr>\n",
       "    <tr>\n",
       "      <th>3</th>\n",
       "      <td>230.0</td>\n",
       "      <td>6.0</td>\n",
       "      <td>1</td>\n",
       "      <td>0</td>\n",
       "      <td>0</td>\n",
       "    </tr>\n",
       "    <tr>\n",
       "      <th>4</th>\n",
       "      <td>230.0</td>\n",
       "      <td>6.0</td>\n",
       "      <td>1</td>\n",
       "      <td>0</td>\n",
       "      <td>0</td>\n",
       "    </tr>\n",
       "    <tr>\n",
       "      <th>...</th>\n",
       "      <td>...</td>\n",
       "      <td>...</td>\n",
       "      <td>...</td>\n",
       "      <td>...</td>\n",
       "      <td>...</td>\n",
       "    </tr>\n",
       "    <tr>\n",
       "      <th>11909</th>\n",
       "      <td>300.0</td>\n",
       "      <td>6.0</td>\n",
       "      <td>0</td>\n",
       "      <td>0</td>\n",
       "      <td>1</td>\n",
       "    </tr>\n",
       "    <tr>\n",
       "      <th>11910</th>\n",
       "      <td>300.0</td>\n",
       "      <td>6.0</td>\n",
       "      <td>0</td>\n",
       "      <td>0</td>\n",
       "      <td>1</td>\n",
       "    </tr>\n",
       "    <tr>\n",
       "      <th>11911</th>\n",
       "      <td>300.0</td>\n",
       "      <td>6.0</td>\n",
       "      <td>0</td>\n",
       "      <td>0</td>\n",
       "      <td>1</td>\n",
       "    </tr>\n",
       "    <tr>\n",
       "      <th>11912</th>\n",
       "      <td>300.0</td>\n",
       "      <td>6.0</td>\n",
       "      <td>0</td>\n",
       "      <td>0</td>\n",
       "      <td>1</td>\n",
       "    </tr>\n",
       "    <tr>\n",
       "      <th>11913</th>\n",
       "      <td>221.0</td>\n",
       "      <td>6.0</td>\n",
       "      <td>0</td>\n",
       "      <td>0</td>\n",
       "      <td>1</td>\n",
       "    </tr>\n",
       "  </tbody>\n",
       "</table>\n",
       "<p>8084 rows × 5 columns</p>\n",
       "</div>"
      ],
      "text/plain": [
       "       Engine HP  Engine Cylinders  Vehicle Size_Compact  Vehicle Size_Large  \\\n",
       "0          335.0               6.0                     1                   0   \n",
       "1          300.0               6.0                     1                   0   \n",
       "2          300.0               6.0                     1                   0   \n",
       "3          230.0               6.0                     1                   0   \n",
       "4          230.0               6.0                     1                   0   \n",
       "...          ...               ...                   ...                 ...   \n",
       "11909      300.0               6.0                     0                   0   \n",
       "11910      300.0               6.0                     0                   0   \n",
       "11911      300.0               6.0                     0                   0   \n",
       "11912      300.0               6.0                     0                   0   \n",
       "11913      221.0               6.0                     0                   0   \n",
       "\n",
       "       Vehicle Size_Midsize  \n",
       "0                         0  \n",
       "1                         0  \n",
       "2                         0  \n",
       "3                         0  \n",
       "4                         0  \n",
       "...                     ...  \n",
       "11909                     1  \n",
       "11910                     1  \n",
       "11911                     1  \n",
       "11912                     1  \n",
       "11913                     1  \n",
       "\n",
       "[8084 rows x 5 columns]"
      ]
     },
     "execution_count": 8,
     "metadata": {},
     "output_type": "execute_result"
    }
   ],
   "source": [
    "x=pd.get_dummies(x,columns=['Vehicle Size'])\n",
    "x"
   ]
  },
  {
   "cell_type": "markdown",
   "id": "13ef57d4",
   "metadata": {},
   "source": [
    "# Dependent Variable"
   ]
  },
  {
   "cell_type": "code",
   "execution_count": 10,
   "id": "d4d5754b",
   "metadata": {},
   "outputs": [
    {
     "data": {
      "text/plain": [
       "0        46135\n",
       "1        40650\n",
       "2        36350\n",
       "3        29450\n",
       "4        34500\n",
       "         ...  \n",
       "11909    46120\n",
       "11910    56670\n",
       "11911    50620\n",
       "11912    50920\n",
       "11913    28995\n",
       "Name: MSRP, Length: 8084, dtype: int64"
      ]
     },
     "execution_count": 10,
     "metadata": {},
     "output_type": "execute_result"
    }
   ],
   "source": [
    "y_use=cars['MSRP']\n",
    "y_use"
   ]
  },
  {
   "cell_type": "markdown",
   "id": "4980df87",
   "metadata": {},
   "source": [
    "# Array of both"
   ]
  },
  {
   "cell_type": "code",
   "execution_count": 11,
   "id": "8eb65bb8",
   "metadata": {},
   "outputs": [
    {
     "data": {
      "text/plain": [
       "array([[335.,   6.,   1.,   0.,   0.],\n",
       "       [300.,   6.,   1.,   0.,   0.],\n",
       "       [300.,   6.,   1.,   0.,   0.],\n",
       "       ...,\n",
       "       [300.,   6.,   0.,   0.,   1.],\n",
       "       [300.,   6.,   0.,   0.,   1.],\n",
       "       [221.,   6.,   0.,   0.,   1.]])"
      ]
     },
     "execution_count": 11,
     "metadata": {},
     "output_type": "execute_result"
    }
   ],
   "source": [
    "x_use=np.array(x)\n",
    "x_use\n"
   ]
  },
  {
   "cell_type": "code",
   "execution_count": 12,
   "id": "ab032b47",
   "metadata": {},
   "outputs": [],
   "source": [
    "#divide the dataset in some amount of training and testing data\n",
    "from sklearn.model_selection import train_test_split\n",
    "\n",
    "#random state => seed value used by random number generator\n",
    "\n",
    "x_train,x_test,y_train,y_test=train_test_split(x_use,y_use,test_size=0.3,random_state=0)"
   ]
  },
  {
   "cell_type": "code",
   "execution_count": 13,
   "id": "7f69aab1",
   "metadata": {},
   "outputs": [
    {
     "data": {
      "text/plain": [
       "LinearRegression()"
      ]
     },
     "execution_count": 13,
     "metadata": {},
     "output_type": "execute_result"
    }
   ],
   "source": [
    "#Implement Classifier based on Simple Linear Regression\n",
    "model=LinearRegression()\n",
    "model.fit(x_train,y_train)"
   ]
  },
  {
   "cell_type": "code",
   "execution_count": 14,
   "id": "edb89dfd",
   "metadata": {},
   "outputs": [
    {
     "data": {
      "text/plain": [
       "array([ 77555.3703551 ,   5767.06819271,  37815.7153232 , ...,\n",
       "       -19131.74251028,   5094.1273629 ,  45927.151354  ])"
      ]
     },
     "execution_count": 14,
     "metadata": {},
     "output_type": "execute_result"
    }
   ],
   "source": [
    "predictions=model.predict(x_test)\n",
    "predictions"
   ]
  },
  {
   "cell_type": "code",
   "execution_count": 15,
   "id": "079bad3f",
   "metadata": {},
   "outputs": [
    {
     "data": {
      "text/plain": [
       "4406      53235\n",
       "1181      16495\n",
       "10567     52055\n",
       "467      233509\n",
       "49        50750\n",
       "          ...  \n",
       "3020      79195\n",
       "7351      32390\n",
       "1473       2000\n",
       "7018       2038\n",
       "1197      29990\n",
       "Name: MSRP, Length: 2426, dtype: int64"
      ]
     },
     "execution_count": 15,
     "metadata": {},
     "output_type": "execute_result"
    }
   ],
   "source": [
    "y_test"
   ]
  },
  {
   "cell_type": "code",
   "execution_count": 107,
   "id": "c06e4924",
   "metadata": {},
   "outputs": [
    {
     "data": {
      "text/plain": [
       "0.49293127375509316"
      ]
     },
     "execution_count": 107,
     "metadata": {},
     "output_type": "execute_result"
    }
   ],
   "source": [
    "r_sq = model.score(x_train,y_train)       #R2 value\n",
    "r_sq"
   ]
  },
  {
   "cell_type": "code",
   "execution_count": 95,
   "id": "f4cd686b",
   "metadata": {},
   "outputs": [
    {
     "data": {
      "text/plain": [
       "-86089.52900151676"
      ]
     },
     "execution_count": 95,
     "metadata": {},
     "output_type": "execute_result"
    }
   ],
   "source": [
    "model.intercept_  #Intercept term"
   ]
  },
  {
   "cell_type": "code",
   "execution_count": 96,
   "id": "69b2308d",
   "metadata": {},
   "outputs": [
    {
     "data": {
      "text/plain": [
       "array([ 3.38781953e+02,  7.86280529e+03, -2.93086866e+00,  1.81355928e+04,\n",
       "       -1.51268126e+04, -3.00878021e+03])"
      ]
     },
     "execution_count": 96,
     "metadata": {},
     "output_type": "execute_result"
    }
   ],
   "source": [
    "model.coef_  #Coefficients"
   ]
  },
  {
   "cell_type": "markdown",
   "id": "1ccdf910",
   "metadata": {},
   "source": [
    "# ALTERNATIVE Engine HP"
   ]
  },
  {
   "cell_type": "code",
   "execution_count": 172,
   "id": "12e1319c",
   "metadata": {},
   "outputs": [],
   "source": [
    "cars=pd.read_csv(r\"Z:\\226524\\Datasets\\cars_data.csv\")\n",
    "cars=cars.dropna()"
   ]
  },
  {
   "cell_type": "code",
   "execution_count": 173,
   "id": "17eeb9b2",
   "metadata": {},
   "outputs": [
    {
     "data": {
      "text/plain": [
       "array([[335.],\n",
       "       [300.],\n",
       "       [300.],\n",
       "       ...,\n",
       "       [300.],\n",
       "       [300.],\n",
       "       [221.]])"
      ]
     },
     "execution_count": 173,
     "metadata": {},
     "output_type": "execute_result"
    }
   ],
   "source": [
    "x=np.array(cars['Engine HP']).reshape(len(cars),1)\n",
    "x"
   ]
  },
  {
   "cell_type": "code",
   "execution_count": 174,
   "id": "1780d410",
   "metadata": {},
   "outputs": [
    {
     "data": {
      "text/plain": [
       "array([[46135],\n",
       "       [40650],\n",
       "       [36350],\n",
       "       ...,\n",
       "       [50620],\n",
       "       [50920],\n",
       "       [28995]], dtype=int64)"
      ]
     },
     "execution_count": 174,
     "metadata": {},
     "output_type": "execute_result"
    }
   ],
   "source": [
    "y=np.array(cars['MSRP']).reshape(len(cars),1)\n",
    "y"
   ]
  },
  {
   "cell_type": "code",
   "execution_count": 150,
   "id": "087be0db",
   "metadata": {},
   "outputs": [],
   "source": [
    "#divide the dataset in some amount of training and testing data\n",
    "from sklearn.model_selection import train_test_split\n",
    "\n",
    "#random state => seed value used by random number generator\n",
    "\n",
    "x_train,x_test,y_train,y_test=train_test_split(x,y,test_size=0.3,random_state=0)"
   ]
  },
  {
   "cell_type": "code",
   "execution_count": 151,
   "id": "9c1e3c6f",
   "metadata": {},
   "outputs": [
    {
     "data": {
      "text/plain": [
       "array([[308.],\n",
       "       [281.],\n",
       "       [200.],\n",
       "       ...,\n",
       "       [455.],\n",
       "       [225.],\n",
       "       [288.]])"
      ]
     },
     "execution_count": 151,
     "metadata": {},
     "output_type": "execute_result"
    }
   ],
   "source": [
    "x_train"
   ]
  },
  {
   "cell_type": "code",
   "execution_count": 152,
   "id": "b3e9c746",
   "metadata": {},
   "outputs": [
    {
     "data": {
      "text/plain": [
       "LinearRegression()"
      ]
     },
     "execution_count": 152,
     "metadata": {},
     "output_type": "execute_result"
    }
   ],
   "source": [
    "#Implement Classifier based on Simple Linear Regression\n",
    "model=LinearRegression()\n",
    "model.fit(x_train,y_train)"
   ]
  },
  {
   "cell_type": "code",
   "execution_count": 153,
   "id": "7917aab2",
   "metadata": {},
   "outputs": [
    {
     "data": {
      "text/plain": [
       "array([[ 86357.45818056],\n",
       "       [ -5086.3464882 ],\n",
       "       [ 35822.72402151],\n",
       "       ...,\n",
       "       [-34765.47607367],\n",
       "       [ -5888.48512565],\n",
       "       [ 48656.94222063]])"
      ]
     },
     "execution_count": 153,
     "metadata": {},
     "output_type": "execute_result"
    }
   ],
   "source": [
    "predictions=model.predict(x_test)\n",
    "predictions"
   ]
  },
  {
   "cell_type": "code",
   "execution_count": 154,
   "id": "96ddbe34",
   "metadata": {},
   "outputs": [
    {
     "data": {
      "text/plain": [
       "array([[53235],\n",
       "       [16495],\n",
       "       [52055],\n",
       "       ...,\n",
       "       [ 2000],\n",
       "       [ 2038],\n",
       "       [29990]], dtype=int64)"
      ]
     },
     "execution_count": 154,
     "metadata": {},
     "output_type": "execute_result"
    }
   ],
   "source": [
    "y_test"
   ]
  },
  {
   "cell_type": "code",
   "execution_count": 155,
   "id": "22086b1e",
   "metadata": {},
   "outputs": [
    {
     "data": {
      "text/plain": [
       "0.45337944516263606"
      ]
     },
     "execution_count": 155,
     "metadata": {},
     "output_type": "execute_result"
    }
   ],
   "source": [
    "r_sq = model.score(x_train,y_train)       #R2 value\n",
    "r_sq"
   ]
  },
  {
   "cell_type": "code",
   "execution_count": 156,
   "id": "05e2918d",
   "metadata": {},
   "outputs": [
    {
     "data": {
      "text/plain": [
       "array([-60032.8431532])"
      ]
     },
     "execution_count": 156,
     "metadata": {},
     "output_type": "execute_result"
    }
   ],
   "source": [
    "model.intercept_  #Intercept term"
   ]
  },
  {
   "cell_type": "code",
   "execution_count": 157,
   "id": "7f89b42c",
   "metadata": {},
   "outputs": [
    {
     "data": {
      "text/plain": [
       "array([[401.06931872]])"
      ]
     },
     "execution_count": 157,
     "metadata": {},
     "output_type": "execute_result"
    }
   ],
   "source": [
    "model.coef_  #Coefficients"
   ]
  },
  {
   "cell_type": "code",
   "execution_count": 159,
   "id": "75a6baa3",
   "metadata": {},
   "outputs": [
    {
     "data": {
      "text/plain": [
       "[<matplotlib.lines.Line2D at 0x27d944679d0>]"
      ]
     },
     "execution_count": 159,
     "metadata": {},
     "output_type": "execute_result"
    },
    {
     "data": {
      "image/png": "[encoded data removed]",
      "text/plain": [
       "<Figure size 432x288 with 1 Axes>"
      ]
     },
     "metadata": {
      "needs_background": "light"
     },
     "output_type": "display_data"
    }
   ],
   "source": [
    "plt.scatter(x_train, y_train, color='red')\n",
    "plt.plot(x_train, model.predict(x_train))"
   ]
  },
  {
   "cell_type": "code",
   "execution_count": 138,
   "id": "82945f50",
   "metadata": {},
   "outputs": [
    {
     "data": {
      "text/plain": [
       "(array([   0,    1,    2, ..., 5655, 5656, 5657], dtype=int64),\n",
       " array([0, 0, 0, ..., 0, 0, 0], dtype=int64))"
      ]
     },
     "execution_count": 138,
     "metadata": {},
     "output_type": "execute_result"
    }
   ],
   "source": [
    "np.where(y_train>1)"
   ]
  },
  {
   "cell_type": "markdown",
   "id": "d5a144b9",
   "metadata": {},
   "source": [
    "# ALTERNATIVE Engine Cylinders"
   ]
  },
  {
   "cell_type": "code",
   "execution_count": 160,
   "id": "26e9ca2a",
   "metadata": {},
   "outputs": [],
   "source": [
    "cars=pd.read_csv(r\"Z:\\226524\\Datasets\\cars_data.csv\")\n",
    "cars=cars.dropna()"
   ]
  },
  {
   "cell_type": "code",
   "execution_count": 161,
   "id": "95d201c8",
   "metadata": {},
   "outputs": [
    {
     "data": {
      "text/plain": [
       "array([[6.],\n",
       "       [6.],\n",
       "       [6.],\n",
       "       ...,\n",
       "       [6.],\n",
       "       [6.],\n",
       "       [6.]])"
      ]
     },
     "execution_count": 161,
     "metadata": {},
     "output_type": "execute_result"
    }
   ],
   "source": [
    "x=np.array(cars['Engine Cylinders']).reshape(len(cars),1)\n",
    "x"
   ]
  },
  {
   "cell_type": "code",
   "execution_count": 162,
   "id": "019db3ea",
   "metadata": {},
   "outputs": [
    {
     "data": {
      "text/plain": [
       "array([[46135],\n",
       "       [40650],\n",
       "       [36350],\n",
       "       ...,\n",
       "       [50620],\n",
       "       [50920],\n",
       "       [28995]], dtype=int64)"
      ]
     },
     "execution_count": 162,
     "metadata": {},
     "output_type": "execute_result"
    }
   ],
   "source": [
    "y=np.array(cars['MSRP']).reshape(len(cars),1)\n",
    "y"
   ]
  },
  {
   "cell_type": "code",
   "execution_count": 163,
   "id": "b86d6621",
   "metadata": {},
   "outputs": [],
   "source": [
    "#divide the dataset in some amount of training and testing data\n",
    "from sklearn.model_selection import train_test_split\n",
    "\n",
    "#random state => seed value used by random number generator\n",
    "\n",
    "x_train,x_test,y_train,y_test=train_test_split(x,y,test_size=0.3,random_state=0)"
   ]
  },
  {
   "cell_type": "code",
   "execution_count": 164,
   "id": "9c83f90f",
   "metadata": {},
   "outputs": [
    {
     "data": {
      "text/plain": [
       "LinearRegression()"
      ]
     },
     "execution_count": 164,
     "metadata": {},
     "output_type": "execute_result"
    }
   ],
   "source": [
    "#Implement Classifier based on Simple Linear Regression\n",
    "model=LinearRegression()\n",
    "model.fit(x_train,y_train)"
   ]
  },
  {
   "cell_type": "code",
   "execution_count": 165,
   "id": "839d687b",
   "metadata": {},
   "outputs": [
    {
     "data": {
      "text/plain": [
       "array([[55053.80013858],\n",
       "       [11620.94670566],\n",
       "       [98486.6535715 ],\n",
       "       ...,\n",
       "       [11620.94670566],\n",
       "       [11620.94670566],\n",
       "       [55053.80013858]])"
      ]
     },
     "execution_count": 165,
     "metadata": {},
     "output_type": "execute_result"
    }
   ],
   "source": [
    "predictions=model.predict(x_test)\n",
    "predictions"
   ]
  },
  {
   "cell_type": "code",
   "execution_count": 166,
   "id": "252f834b",
   "metadata": {},
   "outputs": [
    {
     "data": {
      "text/plain": [
       "array([[53235],\n",
       "       [16495],\n",
       "       [52055],\n",
       "       ...,\n",
       "       [ 2000],\n",
       "       [ 2038],\n",
       "       [29990]], dtype=int64)"
      ]
     },
     "execution_count": 166,
     "metadata": {},
     "output_type": "execute_result"
    }
   ],
   "source": [
    "y_test"
   ]
  },
  {
   "cell_type": "code",
   "execution_count": 167,
   "id": "a445f6b6",
   "metadata": {},
   "outputs": [
    {
     "data": {
      "text/plain": [
       "0.35670616037095804"
      ]
     },
     "execution_count": 167,
     "metadata": {},
     "output_type": "execute_result"
    }
   ],
   "source": [
    "r_sq = model.score(x_train,y_train)       #R2 value\n",
    "r_sq"
   ]
  },
  {
   "cell_type": "code",
   "execution_count": 168,
   "id": "012adf81",
   "metadata": {},
   "outputs": [
    {
     "data": {
      "text/plain": [
       "array([-75244.76016019])"
      ]
     },
     "execution_count": 168,
     "metadata": {},
     "output_type": "execute_result"
    }
   ],
   "source": [
    "model.intercept_  #Intercept term"
   ]
  },
  {
   "cell_type": "code",
   "execution_count": 169,
   "id": "a2a27c8f",
   "metadata": {},
   "outputs": [
    {
     "data": {
      "text/plain": [
       "array([[21716.42671646]])"
      ]
     },
     "execution_count": 169,
     "metadata": {},
     "output_type": "execute_result"
    }
   ],
   "source": [
    "model.coef_  #Coefficients"
   ]
  },
  {
   "cell_type": "code",
   "execution_count": 170,
   "id": "9d8be63e",
   "metadata": {},
   "outputs": [
    {
     "data": {
      "text/plain": [
       "[<matplotlib.lines.Line2D at 0x27d944cabb0>]"
      ]
     },
     "execution_count": 170,
     "metadata": {},
     "output_type": "execute_result"
    },
    {
     "data": {
      "image/png": "[encoded data removed]",
      "text/plain": [
       "<Figure size 432x288 with 1 Axes>"
      ]
     },
     "metadata": {
      "needs_background": "light"
     },
     "output_type": "display_data"
    }
   ],
   "source": [
    "plt.scatter(x_train, y_train, color='red')\n",
    "plt.plot(x_train, model.predict(x_train))"
   ]
  },
  {
   "cell_type": "markdown",
   "id": "8f7da6c9",
   "metadata": {},
   "source": [
    "# Alternative removing Outliers"
   ]
  },
  {
   "cell_type": "code",
   "execution_count": 188,
   "id": "3de73fd0",
   "metadata": {},
   "outputs": [],
   "source": [
    "cars=pd.read_csv(r\"Z:\\226524\\Datasets\\cars_data.csv\")\n",
    "cars=cars.dropna()"
   ]
  },
  {
   "cell_type": "code",
   "execution_count": 189,
   "id": "9ca3a57d",
   "metadata": {},
   "outputs": [
    {
     "data": {
      "text/plain": [
       "6706        2000\n",
       "3512        2000\n",
       "748         2000\n",
       "747         2000\n",
       "3513        2000\n",
       "          ...   \n",
       "6351     1382750\n",
       "11363    1500000\n",
       "8486     1500000\n",
       "11364    1705769\n",
       "11362    2065902\n",
       "Name: MSRP, Length: 8084, dtype: int64"
      ]
     },
     "execution_count": 189,
     "metadata": {},
     "output_type": "execute_result"
    }
   ],
   "source": [
    "cars['MSRP'].sort_values()"
   ]
  },
  {
   "cell_type": "code",
   "execution_count": 197,
   "id": "9d88bc6f",
   "metadata": {},
   "outputs": [],
   "source": [
    "cars=cars[cars.MSRP<1000000]"
   ]
  },
  {
   "cell_type": "code",
   "execution_count": 198,
   "id": "8ebb2d0a",
   "metadata": {},
   "outputs": [
    {
     "data": {
      "text/plain": [
       "array([[335.],\n",
       "       [300.],\n",
       "       [300.],\n",
       "       ...,\n",
       "       [300.],\n",
       "       [300.],\n",
       "       [221.]])"
      ]
     },
     "execution_count": 198,
     "metadata": {},
     "output_type": "execute_result"
    }
   ],
   "source": [
    "x=np.array(cars['Engine HP']).reshape(len(cars),1)\n",
    "x"
   ]
  },
  {
   "cell_type": "code",
   "execution_count": 199,
   "id": "ada43e0a",
   "metadata": {},
   "outputs": [
    {
     "data": {
      "text/plain": [
       "array([[46135],\n",
       "       [40650],\n",
       "       [36350],\n",
       "       ...,\n",
       "       [50620],\n",
       "       [50920],\n",
       "       [28995]], dtype=int64)"
      ]
     },
     "execution_count": 199,
     "metadata": {},
     "output_type": "execute_result"
    }
   ],
   "source": [
    "y=np.array(cars['MSRP']).reshape(len(cars),1)\n",
    "y"
   ]
  },
  {
   "cell_type": "code",
   "execution_count": 200,
   "id": "c8fd4f2c",
   "metadata": {},
   "outputs": [],
   "source": [
    "#divide the dataset in some amount of training and testing data\n",
    "from sklearn.model_selection import train_test_split\n",
    "\n",
    "#random state => seed value used by random number generator\n",
    "\n",
    "x_train,x_test,y_train,y_test=train_test_split(x,y,test_size=0.3,random_state=0)"
   ]
  },
  {
   "cell_type": "code",
   "execution_count": 201,
   "id": "e5631a35",
   "metadata": {},
   "outputs": [
    {
     "data": {
      "text/plain": [
       "LinearRegression()"
      ]
     },
     "execution_count": 201,
     "metadata": {},
     "output_type": "execute_result"
    }
   ],
   "source": [
    "#Implement Classifier based on Simple Linear Regression\n",
    "model=LinearRegression()\n",
    "model.fit(x_train,y_train)"
   ]
  },
  {
   "cell_type": "code",
   "execution_count": 202,
   "id": "a63a7637",
   "metadata": {},
   "outputs": [
    {
     "data": {
      "text/plain": [
       "array([[29378.11536028],\n",
       "       [11206.22447971],\n",
       "       [85710.97709006],\n",
       "       ...,\n",
       "       [58453.1407692 ],\n",
       "       [54818.76259309],\n",
       "       [45732.8171528 ]])"
      ]
     },
     "execution_count": 202,
     "metadata": {},
     "output_type": "execute_result"
    }
   ],
   "source": [
    "predictions=model.predict(x_test)\n",
    "predictions"
   ]
  },
  {
   "cell_type": "code",
   "execution_count": 203,
   "id": "a3536af5",
   "metadata": {},
   "outputs": [
    {
     "data": {
      "text/plain": [
       "array([[35705],\n",
       "       [29845],\n",
       "       [40140],\n",
       "       ...,\n",
       "       [41715],\n",
       "       [53230],\n",
       "       [25995]], dtype=int64)"
      ]
     },
     "execution_count": 203,
     "metadata": {},
     "output_type": "execute_result"
    }
   ],
   "source": [
    "y_test"
   ]
  },
  {
   "cell_type": "code",
   "execution_count": 204,
   "id": "2a085669",
   "metadata": {},
   "outputs": [
    {
     "data": {
      "text/plain": [
       "0.5392704003238221"
      ]
     },
     "execution_count": 204,
     "metadata": {},
     "output_type": "execute_result"
    }
   ],
   "source": [
    "r_sq = model.score(x_train,y_train)       #R2 value\n",
    "r_sq"
   ]
  },
  {
   "cell_type": "code",
   "execution_count": 205,
   "id": "4a9bbbdd",
   "metadata": {},
   "outputs": [
    {
     "data": {
      "text/plain": [
       "array([-50578.20451425])"
      ]
     },
     "execution_count": 205,
     "metadata": {},
     "output_type": "execute_result"
    }
   ],
   "source": [
    "model.intercept_  #Intercept term"
   ]
  },
  {
   "cell_type": "code",
   "execution_count": 206,
   "id": "9c6ef24d",
   "metadata": {},
   "outputs": [
    {
     "data": {
      "text/plain": [
       "array([[363.43781761]])"
      ]
     },
     "execution_count": 206,
     "metadata": {},
     "output_type": "execute_result"
    }
   ],
   "source": [
    "model.coef_  #Coefficients"
   ]
  },
  {
   "cell_type": "code",
   "execution_count": 207,
   "id": "a181b92b",
   "metadata": {},
   "outputs": [
    {
     "data": {
      "text/plain": [
       "[<matplotlib.lines.Line2D at 0x27d98548160>]"
      ]
     },
     "execution_count": 207,
     "metadata": {},
     "output_type": "execute_result"
    },
    {
     "data": {
      "image/png": "[encoded data removed]",
      "text/plain": [
       "<Figure size 432x288 with 1 Axes>"
      ]
     },
     "metadata": {
      "needs_background": "light"
     },
     "output_type": "display_data"
    }
   ],
   "source": [
    "plt.scatter(x_train, y_train, color='red')\n",
    "plt.plot(x_train, model.predict(x_train))"
   ]
  },
  {
   "cell_type": "markdown",
   "id": "5da8af47",
   "metadata": {},
   "source": [
    "# Alternative removing Outliers"
   ]
  },
  {
   "cell_type": "code",
   "execution_count": 214,
   "id": "9eae4be1",
   "metadata": {},
   "outputs": [],
   "source": [
    "cars=pd.read_csv(r\"Z:\\226524\\Datasets\\cars_data.csv\")\n",
    "cars=cars.dropna()"
   ]
  },
  {
   "cell_type": "code",
   "execution_count": 215,
   "id": "7538f46b",
   "metadata": {},
   "outputs": [],
   "source": [
    "cars=cars[cars.MSRP<1000000]"
   ]
  },
  {
   "cell_type": "code",
   "execution_count": 216,
   "id": "c4a2aede",
   "metadata": {},
   "outputs": [
    {
     "data": {
      "text/plain": [
       "array([[6.],\n",
       "       [6.],\n",
       "       [6.],\n",
       "       ...,\n",
       "       [6.],\n",
       "       [6.],\n",
       "       [6.]])"
      ]
     },
     "execution_count": 216,
     "metadata": {},
     "output_type": "execute_result"
    }
   ],
   "source": [
    "x=np.array(cars['Engine Cylinders']).reshape(len(cars),1)\n",
    "x"
   ]
  },
  {
   "cell_type": "code",
   "execution_count": 217,
   "id": "293c038f",
   "metadata": {},
   "outputs": [
    {
     "data": {
      "text/plain": [
       "array([[46135],\n",
       "       [40650],\n",
       "       [36350],\n",
       "       ...,\n",
       "       [50620],\n",
       "       [50920],\n",
       "       [28995]], dtype=int64)"
      ]
     },
     "execution_count": 217,
     "metadata": {},
     "output_type": "execute_result"
    }
   ],
   "source": [
    "y=np.array(cars['MSRP']).reshape(len(cars),1)\n",
    "y"
   ]
  },
  {
   "cell_type": "code",
   "execution_count": 218,
   "id": "7507e6b9",
   "metadata": {},
   "outputs": [],
   "source": [
    "#divide the dataset in some amount of training and testing data\n",
    "from sklearn.model_selection import train_test_split\n",
    "\n",
    "#random state => seed value used by random number generator\n",
    "\n",
    "x_train,x_test,y_train,y_test=train_test_split(x,y,test_size=0.3,random_state=0)"
   ]
  },
  {
   "cell_type": "code",
   "execution_count": 219,
   "id": "714ab98b",
   "metadata": {},
   "outputs": [
    {
     "data": {
      "text/plain": [
       "LinearRegression()"
      ]
     },
     "execution_count": 219,
     "metadata": {},
     "output_type": "execute_result"
    }
   ],
   "source": [
    "#Implement Classifier based on Simple Linear Regression\n",
    "model=LinearRegression()\n",
    "model.fit(x_train,y_train)"
   ]
  },
  {
   "cell_type": "code",
   "execution_count": 220,
   "id": "61bada9b",
   "metadata": {},
   "outputs": [
    {
     "data": {
      "text/plain": [
       "array([[53633.12672337],\n",
       "       [14013.00971202],\n",
       "       [93253.24373472],\n",
       "       ...,\n",
       "       [93253.24373472],\n",
       "       [53633.12672337],\n",
       "       [14013.00971202]])"
      ]
     },
     "execution_count": 220,
     "metadata": {},
     "output_type": "execute_result"
    }
   ],
   "source": [
    "predictions=model.predict(x_test)\n",
    "predictions"
   ]
  },
  {
   "cell_type": "code",
   "execution_count": 221,
   "id": "adb464e1",
   "metadata": {},
   "outputs": [
    {
     "data": {
      "text/plain": [
       "array([[35705],\n",
       "       [29845],\n",
       "       [40140],\n",
       "       ...,\n",
       "       [41715],\n",
       "       [53230],\n",
       "       [25995]], dtype=int64)"
      ]
     },
     "execution_count": 221,
     "metadata": {},
     "output_type": "execute_result"
    }
   ],
   "source": [
    "y_test"
   ]
  },
  {
   "cell_type": "code",
   "execution_count": 222,
   "id": "fb0869a6",
   "metadata": {},
   "outputs": [
    {
     "data": {
      "text/plain": [
       "0.43668270314130864"
      ]
     },
     "execution_count": 222,
     "metadata": {},
     "output_type": "execute_result"
    }
   ],
   "source": [
    "r_sq = model.score(x_train,y_train)       #R2 value\n",
    "r_sq"
   ]
  },
  {
   "cell_type": "code",
   "execution_count": 223,
   "id": "206db51e",
   "metadata": {},
   "outputs": [
    {
     "data": {
      "text/plain": [
       "array([-65227.22431067])"
      ]
     },
     "execution_count": 223,
     "metadata": {},
     "output_type": "execute_result"
    }
   ],
   "source": [
    "model.intercept_  #Intercept term"
   ]
  },
  {
   "cell_type": "code",
   "execution_count": 224,
   "id": "6503112d",
   "metadata": {},
   "outputs": [
    {
     "data": {
      "text/plain": [
       "array([[19810.05850567]])"
      ]
     },
     "execution_count": 224,
     "metadata": {},
     "output_type": "execute_result"
    }
   ],
   "source": [
    "model.coef_  #Coefficients"
   ]
  },
  {
   "cell_type": "code",
   "execution_count": 225,
   "id": "1e102db0",
   "metadata": {},
   "outputs": [
    {
     "data": {
      "text/plain": [
       "[<matplotlib.lines.Line2D at 0x27d985aa640>]"
      ]
     },
     "execution_count": 225,
     "metadata": {},
     "output_type": "execute_result"
    },
    {
     "data": {
      "image/png": "[encoded data removed]",
      "text/plain": [
       "<Figure size 432x288 with 1 Axes>"
      ]
     },
     "metadata": {
      "needs_background": "light"
     },
     "output_type": "display_data"
    }
   ],
   "source": [
    "plt.scatter(x_train, y_train, color='red')\n",
    "plt.plot(x_train, model.predict(x_train))"
   ]
  },
  {
   "cell_type": "code",
   "execution_count": null,
   "id": "e20dd6a3",
   "metadata": {},
   "outputs": [],
   "source": []
  }
 ],
 "metadata": {
  "kernelspec": {
   "display_name": "Python 3 (ipykernel)",
   "language": "python",
   "name": "python3"
  },
  "language_info": {
   "codemirror_mode": {
    "name": "ipython",
    "version": 3
   },
   "file_extension": ".py",
   "mimetype": "text/x-python",
   "name": "python",
   "nbconvert_exporter": "python",
   "pygments_lexer": "ipython3",
   "version": "3.9.12"
  }
 },
 "nbformat": 4,
 "nbformat_minor": 5
}
